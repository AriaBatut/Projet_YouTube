{
 "cells": [
  {
   "cell_type": "markdown",
   "metadata": {},
   "source": [
    "# Création d'un fichier CSV avec des ID de vidéos de replay de live\n",
    "\n",
    "Ce fichier permet de faire tourner des lignes de code créant un fichier CSV d’une seule colonne contenant des identifiants de vidéos récupérées dans la catégories “Diffusion en direct terminées” de chaque chaîne. C'est-à-dire que ces vidéos sont des replay de live qui ont été répertoriées. En effet, sur Youtube, il est possible de publier des vidéos en “non répertoriées\". Par exemple, sur la chaîne de Michou, il y a une playlist de ses rediffusions de live où les dernières sont très récentes. Cependant, dans la catégorie “Diffusions en direct terminées” de sa chaîne, la dernière date d’il y a plus d’un an."
   ]
  },
  {
   "cell_type": "code",
   "execution_count": 1,
   "metadata": {},
   "outputs": [],
   "source": [
    "import pandas as pd\n",
    "import projet_fonction\n",
    "import random\n",
    "import numpy as np\n",
    "import time"
   ]
  },
  {
   "cell_type": "markdown",
   "metadata": {},
   "source": [
    "On met dans une data frame notre corpus de 6000 Youtubeurs"
   ]
  },
  {
   "cell_type": "code",
   "execution_count": 2,
   "metadata": {},
   "outputs": [],
   "source": [
    "df = pd.read_excel ('Base_Donnees_YT.xlsx')"
   ]
  },
  {
   "cell_type": "code",
   "execution_count": 3,
   "metadata": {},
   "outputs": [
    {
     "data": {
      "text/html": [
       "<div>\n",
       "<style scoped>\n",
       "    .dataframe tbody tr th:only-of-type {\n",
       "        vertical-align: middle;\n",
       "    }\n",
       "\n",
       "    .dataframe tbody tr th {\n",
       "        vertical-align: top;\n",
       "    }\n",
       "\n",
       "    .dataframe thead th {\n",
       "        text-align: right;\n",
       "    }\n",
       "</style>\n",
       "<table border=\"1\" class=\"dataframe\">\n",
       "  <thead>\n",
       "    <tr style=\"text-align: right;\">\n",
       "      <th></th>\n",
       "      <th>wa_id</th>\n",
       "      <th>display_name</th>\n",
       "      <th>yt_user_id</th>\n",
       "      <th>summary</th>\n",
       "      <th>country</th>\n",
       "      <th>language</th>\n",
       "      <th>made_for_kids</th>\n",
       "      <th>self_declared_made_for_kids</th>\n",
       "      <th>made_for_kids_ratio</th>\n",
       "      <th>videos</th>\n",
       "      <th>...</th>\n",
       "      <th>upload_regularity_score</th>\n",
       "      <th>median_30d_future_views</th>\n",
       "      <th>3_quantile_views</th>\n",
       "      <th>10_quantile_views</th>\n",
       "      <th>25_quantile_views</th>\n",
       "      <th>75_quantile_views</th>\n",
       "      <th>90_quantile_views</th>\n",
       "      <th>97_quantile_views</th>\n",
       "      <th>category</th>\n",
       "      <th>nbVidSince_2020-10-08</th>\n",
       "    </tr>\n",
       "  </thead>\n",
       "  <tbody>\n",
       "    <tr>\n",
       "      <th>0</th>\n",
       "      <td>5</td>\n",
       "      <td>SQUEEZIE</td>\n",
       "      <td>Weg2Pkate69NFdBeuRFTAw</td>\n",
       "      <td>clique sur une vidéo nan??</td>\n",
       "      <td>fr</td>\n",
       "      <td>fr</td>\n",
       "      <td>NaN</td>\n",
       "      <td>NaN</td>\n",
       "      <td>0.072</td>\n",
       "      <td>1419</td>\n",
       "      <td>...</td>\n",
       "      <td>5.0</td>\n",
       "      <td>4991759</td>\n",
       "      <td>2343782.0</td>\n",
       "      <td>3268715</td>\n",
       "      <td>3751946.0</td>\n",
       "      <td>5781184.0</td>\n",
       "      <td>7575135</td>\n",
       "      <td>10326479.0</td>\n",
       "      <td>divertissement</td>\n",
       "      <td>67</td>\n",
       "    </tr>\n",
       "    <tr>\n",
       "      <th>1</th>\n",
       "      <td>534</td>\n",
       "      <td>Cyprien</td>\n",
       "      <td>yWqModMQlbIo8274Wh_ZsQ</td>\n",
       "      <td>Je fais des vidéos, en plus tu peux même les r...</td>\n",
       "      <td>fr</td>\n",
       "      <td>fr</td>\n",
       "      <td>NaN</td>\n",
       "      <td>NaN</td>\n",
       "      <td>NaN</td>\n",
       "      <td>190</td>\n",
       "      <td>...</td>\n",
       "      <td>1.0</td>\n",
       "      <td>2079248</td>\n",
       "      <td>1032419.0</td>\n",
       "      <td>896710</td>\n",
       "      <td>2835087.0</td>\n",
       "      <td>6546175.0</td>\n",
       "      <td>4663003</td>\n",
       "      <td>17346064.0</td>\n",
       "      <td>humour</td>\n",
       "      <td>15</td>\n",
       "    </tr>\n",
       "    <tr>\n",
       "      <th>2</th>\n",
       "      <td>535</td>\n",
       "      <td>NORMAN FAIT DES VIDÉOS</td>\n",
       "      <td>ww2zZWg4Cf5xcRKG-ThmXQ</td>\n",
       "      <td>Je fais des vidéos YouTube depuis... toujours ...</td>\n",
       "      <td>fr</td>\n",
       "      <td>fr</td>\n",
       "      <td>NaN</td>\n",
       "      <td>NaN</td>\n",
       "      <td>NaN</td>\n",
       "      <td>192</td>\n",
       "      <td>...</td>\n",
       "      <td>5.0</td>\n",
       "      <td>1221662</td>\n",
       "      <td>737165.0</td>\n",
       "      <td>489708</td>\n",
       "      <td>1434669.0</td>\n",
       "      <td>2973799.0</td>\n",
       "      <td>2880336</td>\n",
       "      <td>6188938.0</td>\n",
       "      <td>humour</td>\n",
       "      <td>12</td>\n",
       "    </tr>\n",
       "    <tr>\n",
       "      <th>3</th>\n",
       "      <td>904074</td>\n",
       "      <td>Lama Faché</td>\n",
       "      <td>H0XvUpYcxn4V0iZGnZXMnQ</td>\n",
       "      <td>Vous aimez les sujets sur les destinations aty...</td>\n",
       "      <td>fr</td>\n",
       "      <td>fr</td>\n",
       "      <td>NaN</td>\n",
       "      <td>NaN</td>\n",
       "      <td>NaN</td>\n",
       "      <td>1554</td>\n",
       "      <td>...</td>\n",
       "      <td>5.0</td>\n",
       "      <td>188505</td>\n",
       "      <td>36112.0</td>\n",
       "      <td>83885</td>\n",
       "      <td>107707.0</td>\n",
       "      <td>300528.0</td>\n",
       "      <td>410843</td>\n",
       "      <td>940577.0</td>\n",
       "      <td>divertissement</td>\n",
       "      <td>365</td>\n",
       "    </tr>\n",
       "    <tr>\n",
       "      <th>4</th>\n",
       "      <td>424067</td>\n",
       "      <td>Tibo InShape</td>\n",
       "      <td>pWaR3gNAQGsX48cIlQC0qw</td>\n",
       "      <td>DAAMN ! Fun, Fitness, Petites, BOUUM ! &lt;br /&gt; ...</td>\n",
       "      <td>fr</td>\n",
       "      <td>fr</td>\n",
       "      <td>NaN</td>\n",
       "      <td>NaN</td>\n",
       "      <td>NaN</td>\n",
       "      <td>878</td>\n",
       "      <td>...</td>\n",
       "      <td>5.0</td>\n",
       "      <td>695803</td>\n",
       "      <td>279876.0</td>\n",
       "      <td>370743</td>\n",
       "      <td>649494.0</td>\n",
       "      <td>1658043.0</td>\n",
       "      <td>1326930</td>\n",
       "      <td>3680255.0</td>\n",
       "      <td>divertissement</td>\n",
       "      <td>105</td>\n",
       "    </tr>\n",
       "  </tbody>\n",
       "</table>\n",
       "<p>5 rows × 165 columns</p>\n",
       "</div>"
      ],
      "text/plain": [
       "    wa_id            display_name              yt_user_id  \\\n",
       "0       5                SQUEEZIE  Weg2Pkate69NFdBeuRFTAw   \n",
       "1     534                 Cyprien  yWqModMQlbIo8274Wh_ZsQ   \n",
       "2     535  NORMAN FAIT DES VIDÉOS  ww2zZWg4Cf5xcRKG-ThmXQ   \n",
       "3  904074              Lama Faché  H0XvUpYcxn4V0iZGnZXMnQ   \n",
       "4  424067            Tibo InShape  pWaR3gNAQGsX48cIlQC0qw   \n",
       "\n",
       "                                             summary country language  \\\n",
       "0                         clique sur une vidéo nan??      fr       fr   \n",
       "1  Je fais des vidéos, en plus tu peux même les r...      fr       fr   \n",
       "2  Je fais des vidéos YouTube depuis... toujours ...      fr       fr   \n",
       "3  Vous aimez les sujets sur les destinations aty...      fr       fr   \n",
       "4  DAAMN ! Fun, Fitness, Petites, BOUUM ! <br /> ...      fr       fr   \n",
       "\n",
       "   made_for_kids  self_declared_made_for_kids  made_for_kids_ratio  videos  \\\n",
       "0            NaN                          NaN                0.072    1419   \n",
       "1            NaN                          NaN                  NaN     190   \n",
       "2            NaN                          NaN                  NaN     192   \n",
       "3            NaN                          NaN                  NaN    1554   \n",
       "4            NaN                          NaN                  NaN     878   \n",
       "\n",
       "   ...  upload_regularity_score  median_30d_future_views  3_quantile_views  \\\n",
       "0  ...                      5.0                  4991759         2343782.0   \n",
       "1  ...                      1.0                  2079248         1032419.0   \n",
       "2  ...                      5.0                  1221662          737165.0   \n",
       "3  ...                      5.0                   188505           36112.0   \n",
       "4  ...                      5.0                   695803          279876.0   \n",
       "\n",
       "   10_quantile_views  25_quantile_views  75_quantile_views  90_quantile_views  \\\n",
       "0            3268715          3751946.0          5781184.0            7575135   \n",
       "1             896710          2835087.0          6546175.0            4663003   \n",
       "2             489708          1434669.0          2973799.0            2880336   \n",
       "3              83885           107707.0           300528.0             410843   \n",
       "4             370743           649494.0          1658043.0            1326930   \n",
       "\n",
       "   97_quantile_views        category  nbVidSince_2020-10-08  \n",
       "0         10326479.0  divertissement                     67  \n",
       "1         17346064.0          humour                     15  \n",
       "2          6188938.0          humour                     12  \n",
       "3           940577.0  divertissement                    365  \n",
       "4          3680255.0  divertissement                    105  \n",
       "\n",
       "[5 rows x 165 columns]"
      ]
     },
     "execution_count": 3,
     "metadata": {},
     "output_type": "execute_result"
    }
   ],
   "source": [
    "df.head()"
   ]
  },
  {
   "cell_type": "markdown",
   "metadata": {},
   "source": [
    "On va venir parcourir la colonne *__'yt_user_id'__*, on essaye ensuite de savoir s'il y a des replay de live qui sont repertoriés. Pour cela, on execute un try et on regarde si notre fonction *projet_fonction.Liste_Video_Username(yt_user_id)* retourne quelque chose. Si c'est le cas, on récupère au maximum 20 vidéos de manière alétoire, grâce au *np.random.choice*. Puis on enregistre tous les ID dans un fichier CSV nommés *__'videos_ID.csv'__*."
   ]
  },
  {
   "cell_type": "code",
   "execution_count": 33,
   "metadata": {},
   "outputs": [
    {
     "name": "stdout",
     "output_type": "stream",
     "text": [
      "2971.4571449756622\n"
     ]
    }
   ],
   "source": [
    "list_videos = []  # initialisation pour pouvoir sauvagrder chaque ID et transformer le tout en CSV\n",
    "t = time.time()\n",
    "\n",
    "for yt_user_id in df['yt_user_id']:  # on parcours la colonne 'yt_user_id' de notre data frame df\n",
    "    \n",
    "    try:  # on test s'il y a des vidéos répertoriés dans la catégories 'Direct terminés'\n",
    "        video_list = projet_fonction.Liste_Video_Username(yt_user_id)  # Renvoie sous forme de liste vidéos répertoriés\n",
    "                                                                        # dans la catégories 'Direct terminés' dont les\n",
    "                                                                        # informations sont sous forme de dictionnaire\n",
    "        \n",
    "        if video_list != []:  # on vérifie que la liste n'est pas vide\n",
    "            \n",
    "            if len(video_list) < 20:  # s'il y a moins de 20 vidéos\n",
    "                for video in video_list:  # on parcours chaque dictionnaire contenu dans video_list\n",
    "                    list_videos.append(video['video_id'])  # on ajoute à la fin de list_videos l'identifiant\n",
    "            else:  # s'il y a plus de 20 vidéos\n",
    "                videos = np.random.choice(video_list, 20, False)  # on en choisi 20 aléatoirement que l'on met dans videos\n",
    "                for video in videos:  # on parcours chaque dictionnaire contenu dans videos\n",
    "                    list_videos.append(video['video_id'])  # on ajoute à la fin de list_videos l'identifiant\n",
    "    \n",
    "    except:  # si jamais il y a pas de vidéos répertoriés dans la catégories 'Direct terminés'\n",
    "        pass  # on passe\n",
    "    \n",
    "dict = {'video_id': list_videos}  # on transforme sous forme de dictionnaire notre liste contenant tous les ID avec comme clef video_id\n",
    "df = pd.DataFrame(dict)  # transformation du dictionnaire en Data Frame\n",
    "df.to_csv('videos_ID.csv', index = False)  # enregistre au format csv\n",
    "\n",
    "print(time.time() - t)"
   ]
  },
  {
   "cell_type": "markdown",
   "metadata": {},
   "source": [
    "Maintenant que le csv a été créé, on peut l'ouvrir"
   ]
  },
  {
   "cell_type": "code",
   "execution_count": 2,
   "metadata": {},
   "outputs": [],
   "source": [
    "video = pd.read_csv('videos_ID.csv')"
   ]
  },
  {
   "cell_type": "code",
   "execution_count": 3,
   "metadata": {},
   "outputs": [
    {
     "data": {
      "text/html": [
       "<div>\n",
       "<style scoped>\n",
       "    .dataframe tbody tr th:only-of-type {\n",
       "        vertical-align: middle;\n",
       "    }\n",
       "\n",
       "    .dataframe tbody tr th {\n",
       "        vertical-align: top;\n",
       "    }\n",
       "\n",
       "    .dataframe thead th {\n",
       "        text-align: right;\n",
       "    }\n",
       "</style>\n",
       "<table border=\"1\" class=\"dataframe\">\n",
       "  <thead>\n",
       "    <tr style=\"text-align: right;\">\n",
       "      <th></th>\n",
       "      <th>video_id</th>\n",
       "    </tr>\n",
       "  </thead>\n",
       "  <tbody>\n",
       "    <tr>\n",
       "      <th>0</th>\n",
       "      <td>V2OScftR3zU</td>\n",
       "    </tr>\n",
       "    <tr>\n",
       "      <th>1</th>\n",
       "      <td>ReFQcHmCGa0</td>\n",
       "    </tr>\n",
       "    <tr>\n",
       "      <th>2</th>\n",
       "      <td>je7lIqDHCuc</td>\n",
       "    </tr>\n",
       "    <tr>\n",
       "      <th>3</th>\n",
       "      <td>5nCIZCdkOaY</td>\n",
       "    </tr>\n",
       "    <tr>\n",
       "      <th>4</th>\n",
       "      <td>XNHYfaBqhhk</td>\n",
       "    </tr>\n",
       "  </tbody>\n",
       "</table>\n",
       "</div>"
      ],
      "text/plain": [
       "      video_id\n",
       "0  V2OScftR3zU\n",
       "1  ReFQcHmCGa0\n",
       "2  je7lIqDHCuc\n",
       "3  5nCIZCdkOaY\n",
       "4  XNHYfaBqhhk"
      ]
     },
     "execution_count": 3,
     "metadata": {},
     "output_type": "execute_result"
    }
   ],
   "source": [
    "video.head()"
   ]
  },
  {
   "cell_type": "code",
   "execution_count": 5,
   "metadata": {},
   "outputs": [
    {
     "name": "stdout",
     "output_type": "stream",
     "text": [
      "Il y a donc 19391 ID de vidéos qui ont été repertoriés\n"
     ]
    }
   ],
   "source": [
    "print(\"Il y a donc\", video.shape[0], 'ID de vidéos qui ont été repertoriés')"
   ]
  }
 ],
 "metadata": {
  "kernelspec": {
   "display_name": "Python 3",
   "language": "python",
   "name": "python3"
  },
  "language_info": {
   "codemirror_mode": {
    "name": "ipython",
    "version": 3
   },
   "file_extension": ".py",
   "mimetype": "text/x-python",
   "name": "python",
   "nbconvert_exporter": "python",
   "pygments_lexer": "ipython3",
   "version": "3.8.3"
  }
 },
 "nbformat": 4,
 "nbformat_minor": 4
}
