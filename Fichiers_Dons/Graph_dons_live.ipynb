{
 "cells": [
  {
   "cell_type": "markdown",
   "metadata": {},
   "source": [
    "# Petit traitement des données sur le fichier dons_live.csv contenant que 22 vidéos\n",
    "\n",
    "Ce fichier contient des lignes de code qui permettent de visualiser le fichier CSV créé avec peu de dons pour mieux l'appréhender."
   ]
  },
  {
   "cell_type": "code",
   "execution_count": 1,
   "metadata": {},
   "outputs": [],
   "source": [
    "import numpy as np\n",
    "import pandas as pd\n",
    "import datetime\n",
    "import matplotlib.pyplot as plt\n",
    "import matplotlib.dates as mdates"
   ]
  },
  {
   "cell_type": "markdown",
   "metadata": {},
   "source": [
    "On apporte le fichier et on afficher les 5 premières lignes pour savoir qu'elles sont les colonnes."
   ]
  },
  {
   "cell_type": "code",
   "execution_count": 2,
   "metadata": {},
   "outputs": [],
   "source": [
    "data = pd.read_csv(\"dons_live.csv\")"
   ]
  },
  {
   "cell_type": "code",
   "execution_count": 3,
   "metadata": {
    "scrolled": false
   },
   "outputs": [
    {
     "data": {
      "text/html": [
       "<div>\n",
       "<style scoped>\n",
       "    .dataframe tbody tr th:only-of-type {\n",
       "        vertical-align: middle;\n",
       "    }\n",
       "\n",
       "    .dataframe tbody tr th {\n",
       "        vertical-align: top;\n",
       "    }\n",
       "\n",
       "    .dataframe thead th {\n",
       "        text-align: right;\n",
       "    }\n",
       "</style>\n",
       "<table border=\"1\" class=\"dataframe\">\n",
       "  <thead>\n",
       "    <tr style=\"text-align: right;\">\n",
       "      <th></th>\n",
       "      <th>nom_chaine</th>\n",
       "      <th>video_ID</th>\n",
       "      <th>video_titre</th>\n",
       "      <th>date_publi</th>\n",
       "      <th>delta_jour</th>\n",
       "      <th>duree_live</th>\n",
       "      <th>total_don</th>\n",
       "      <th>nbr_don</th>\n",
       "      <th>mean_don</th>\n",
       "      <th>mean_don_heure</th>\n",
       "      <th>nbr_view</th>\n",
       "      <th>nbr_like</th>\n",
       "      <th>nbr_com_live</th>\n",
       "    </tr>\n",
       "  </thead>\n",
       "  <tbody>\n",
       "    <tr>\n",
       "      <th>0</th>\n",
       "      <td>Michou</td>\n",
       "      <td>NBcUl3oCUug</td>\n",
       "      <td>TOURNOIS TIRAGE TRIPLE POUR M'ENTRAÎNER AVANT ...</td>\n",
       "      <td>2022-02-28</td>\n",
       "      <td>33</td>\n",
       "      <td>7705.0</td>\n",
       "      <td>161.89</td>\n",
       "      <td>48</td>\n",
       "      <td>3.37</td>\n",
       "      <td>75.64</td>\n",
       "      <td>403257</td>\n",
       "      <td>30298</td>\n",
       "      <td>160</td>\n",
       "    </tr>\n",
       "    <tr>\n",
       "      <th>1</th>\n",
       "      <td>Michou</td>\n",
       "      <td>qenUHy8e4XQ</td>\n",
       "      <td>JE REDÉCOUVRE SUPER MARIO MAKER 2 ! (vous me d...</td>\n",
       "      <td>2022-02-26</td>\n",
       "      <td>35</td>\n",
       "      <td>9658.0</td>\n",
       "      <td>131.89</td>\n",
       "      <td>44</td>\n",
       "      <td>3.00</td>\n",
       "      <td>49.16</td>\n",
       "      <td>449667</td>\n",
       "      <td>25114</td>\n",
       "      <td>452</td>\n",
       "    </tr>\n",
       "    <tr>\n",
       "      <th>2</th>\n",
       "      <td>Michou</td>\n",
       "      <td>I7oTq8i9yoE</td>\n",
       "      <td>SOIRÉE CLASH ROYALE ! (vous me dites ce qu'on ...</td>\n",
       "      <td>2022-02-26</td>\n",
       "      <td>35</td>\n",
       "      <td>19525.0</td>\n",
       "      <td>259.12</td>\n",
       "      <td>81</td>\n",
       "      <td>3.20</td>\n",
       "      <td>47.78</td>\n",
       "      <td>637305</td>\n",
       "      <td>37454</td>\n",
       "      <td>104</td>\n",
       "    </tr>\n",
       "    <tr>\n",
       "      <th>3</th>\n",
       "      <td>Michou</td>\n",
       "      <td>bNaNLCUPH64</td>\n",
       "      <td>ON S'AFFRONTE SUR LES JEUX DE NOTRE ENFANCE AV...</td>\n",
       "      <td>2022-02-08</td>\n",
       "      <td>53</td>\n",
       "      <td>11621.0</td>\n",
       "      <td>364.83</td>\n",
       "      <td>96</td>\n",
       "      <td>3.80</td>\n",
       "      <td>113.02</td>\n",
       "      <td>877894</td>\n",
       "      <td>52010</td>\n",
       "      <td>360</td>\n",
       "    </tr>\n",
       "    <tr>\n",
       "      <th>4</th>\n",
       "      <td>Michou</td>\n",
       "      <td>Pei5CPhYzsU</td>\n",
       "      <td>JE VEUX DEVENIR JOUEUR PRO SUR CE JEU ! (Clash...</td>\n",
       "      <td>2022-02-08</td>\n",
       "      <td>53</td>\n",
       "      <td>9821.0</td>\n",
       "      <td>234.75</td>\n",
       "      <td>63</td>\n",
       "      <td>3.73</td>\n",
       "      <td>86.05</td>\n",
       "      <td>483877</td>\n",
       "      <td>30954</td>\n",
       "      <td>88</td>\n",
       "    </tr>\n",
       "  </tbody>\n",
       "</table>\n",
       "</div>"
      ],
      "text/plain": [
       "  nom_chaine     video_ID                                        video_titre  \\\n",
       "0     Michou  NBcUl3oCUug  TOURNOIS TIRAGE TRIPLE POUR M'ENTRAÎNER AVANT ...   \n",
       "1     Michou  qenUHy8e4XQ  JE REDÉCOUVRE SUPER MARIO MAKER 2 ! (vous me d...   \n",
       "2     Michou  I7oTq8i9yoE  SOIRÉE CLASH ROYALE ! (vous me dites ce qu'on ...   \n",
       "3     Michou  bNaNLCUPH64  ON S'AFFRONTE SUR LES JEUX DE NOTRE ENFANCE AV...   \n",
       "4     Michou  Pei5CPhYzsU  JE VEUX DEVENIR JOUEUR PRO SUR CE JEU ! (Clash...   \n",
       "\n",
       "   date_publi  delta_jour  duree_live  total_don  nbr_don  mean_don  \\\n",
       "0  2022-02-28          33      7705.0     161.89       48      3.37   \n",
       "1  2022-02-26          35      9658.0     131.89       44      3.00   \n",
       "2  2022-02-26          35     19525.0     259.12       81      3.20   \n",
       "3  2022-02-08          53     11621.0     364.83       96      3.80   \n",
       "4  2022-02-08          53      9821.0     234.75       63      3.73   \n",
       "\n",
       "   mean_don_heure  nbr_view  nbr_like  nbr_com_live  \n",
       "0           75.64    403257     30298           160  \n",
       "1           49.16    449667     25114           452  \n",
       "2           47.78    637305     37454           104  \n",
       "3          113.02    877894     52010           360  \n",
       "4           86.05    483877     30954            88  "
      ]
     },
     "execution_count": 3,
     "metadata": {},
     "output_type": "execute_result"
    }
   ],
   "source": [
    "data.head()"
   ]
  },
  {
   "cell_type": "markdown",
   "metadata": {},
   "source": [
    "On transforme toutes les valeurs de la colonne **date_publi** en type datetime afin de pouvoir tracer des graphiques avec en abscisse les dates."
   ]
  },
  {
   "cell_type": "code",
   "execution_count": 4,
   "metadata": {},
   "outputs": [],
   "source": [
    "data['date_publi'] = pd.to_datetime(data['date_publi'])"
   ]
  },
  {
   "cell_type": "code",
   "execution_count": 5,
   "metadata": {},
   "outputs": [
    {
     "data": {
      "text/plain": [
       "0   2022-02-28\n",
       "Name: date_publi, dtype: datetime64[ns]"
      ]
     },
     "execution_count": 5,
     "metadata": {},
     "output_type": "execute_result"
    }
   ],
   "source": [
    "data['date_publi'][0:1]"
   ]
  },
  {
   "cell_type": "markdown",
   "metadata": {},
   "source": [
    "---\n",
    "\n",
    "### Premier graphique\n",
    "\n",
    "Ici, on trace le montant des dons reçu pour vidéo en fonction de la date et les points sont colorés en fonction de la chaîne à qui appartient la vidéo."
   ]
  },
  {
   "cell_type": "code",
   "execution_count": 6,
   "metadata": {},
   "outputs": [],
   "source": [
    "# on sépare en deux data frame en fonction de nom_chaine\n",
    "data1 = data.where(data[\"nom_chaine\"]=='Michou')[:12]\n",
    "data2 = data.where(data[\"nom_chaine\"]=='Inoxtag')[12:]"
   ]
  },
  {
   "cell_type": "code",
   "execution_count": 7,
   "metadata": {},
   "outputs": [
    {
     "data": {
      "image/png": "[encoded data removed]",
      "text/plain": [
       "<Figure size 720x432 with 1 Axes>"
      ]
     },
     "metadata": {
      "needs_background": "light"
     },
     "output_type": "display_data"
    }
   ],
   "source": [
    "fig = plt.figure(figsize=(10, 6))\n",
    "plt.plot(data1['date_publi'],data1['total_don'] , \"o\",  label=\"Michou\")\n",
    "plt.plot(data2['date_publi'],data2['total_don'] ,\"o\", label=\"Inoxtag\")\n",
    "plt.legend()\n",
    "\n",
    "plt.show()"
   ]
  }
 ],
 "metadata": {
  "kernelspec": {
   "display_name": "Python 3",
   "language": "python",
   "name": "python3"
  },
  "language_info": {
   "codemirror_mode": {
    "name": "ipython",
    "version": 3
   },
   "file_extension": ".py",
   "mimetype": "text/x-python",
   "name": "python",
   "nbconvert_exporter": "python",
   "pygments_lexer": "ipython3",
   "version": "3.8.3"
  }
 },
 "nbformat": 4,
 "nbformat_minor": 4
}
